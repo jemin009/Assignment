{
 "cells": [
  {
   "cell_type": "markdown",
   "metadata": {
    "id": "QNs5cgEv40nw"
   },
   "source": [
    "1) What are the types of Applications?\n",
    "\n",
    "* Web Applications\n",
    "* Add blockquote\n",
    "* Desktop Applications\n",
    "* Mobile Applications\n",
    "* Game Development\n",
    "* Machine Learning & AI\n",
    "* Data Science / Data Analysis\n",
    "* Automation & Scripting"
   ]
  },
  {
   "cell_type": "markdown",
   "metadata": {
    "id": "Y2vG5nse5ZoG"
   },
   "source": [
    "2) What is programing?\n",
    "\n",
    "* Programming is the process of writing instructions (code) that a computer can understand and execute to perform specific tasks."
   ]
  },
  {
   "cell_type": "markdown",
   "metadata": {
    "id": "wepA1Ibx5mqE"
   },
   "source": [
    "3) What is Python?\n",
    "\n",
    "* Python is a high-level, interpreted, object-oriented programming language known for its simplicity, readability, and vast libraries."
   ]
  },
  {
   "cell_type": "markdown",
   "metadata": {
    "id": "jw8H-whL5ukg"
   },
   "source": [
    "4) Write a Python program to check if a number is positive, negative or\n",
    "zero.\n"
   ]
  },
  {
   "cell_type": "code",
   "execution_count": 1,
   "metadata": {
    "colab": {
     "base_uri": "https://localhost:8080/"
    },
    "executionInfo": {
     "elapsed": 7446,
     "status": "ok",
     "timestamp": 1758346233907,
     "user": {
      "displayName": "Jemin Ramani",
      "userId": "05369953851680502689"
     },
     "user_tz": -330
    },
    "id": "qGR4ZxTb52T-",
    "outputId": "26cc291c-e7e2-4a11-9600-8bcc0588c391"
   },
   "outputs": [
    {
     "name": "stdout",
     "output_type": "stream",
     "text": [
      "Enter number: 42\n",
      "Positive\n"
     ]
    }
   ],
   "source": [
    "\n",
    "num = int(input(\"Enter number: \"))\n",
    "if num > 0:\n",
    "    print(\"Positive\")\n",
    "elif num < 0:\n",
    "    print(\"Negative\")\n",
    "else:\n",
    "    print(\"Zero\")"
   ]
  },
  {
   "cell_type": "markdown",
   "metadata": {
    "id": "utIFlI8c6FaY"
   },
   "source": [
    "5) Write a Python program to get the Factorial number of given numbers.\n",
    "\n"
   ]
  },
  {
   "cell_type": "code",
   "execution_count": 2,
   "metadata": {
    "colab": {
     "base_uri": "https://localhost:8080/"
    },
    "executionInfo": {
     "elapsed": 9349,
     "status": "ok",
     "timestamp": 1758346243255,
     "user": {
      "displayName": "Jemin Ramani",
      "userId": "05369953851680502689"
     },
     "user_tz": -330
    },
    "id": "deaxWvM46ly2",
    "outputId": "184f86fd-6e25-4490-84c6-78a28648f721"
   },
   "outputs": [
    {
     "name": "stdout",
     "output_type": "stream",
     "text": [
      "Enter number: 5\n",
      "120\n"
     ]
    }
   ],
   "source": [
    "n = int(input(\"Enter number: \"))\n",
    "fact = 1\n",
    "for i in range(1, n+1):\n",
    "    fact *= i\n",
    "print(fact)\n",
    "\n"
   ]
  },
  {
   "cell_type": "markdown",
   "metadata": {
    "id": "48lZVzIs7Kct"
   },
   "source": [
    "6) Write a Python program to get the Fibonacci series of given range.\n"
   ]
  },
  {
   "cell_type": "code",
   "execution_count": 3,
   "metadata": {
    "colab": {
     "base_uri": "https://localhost:8080/"
    },
    "executionInfo": {
     "elapsed": 64140,
     "status": "ok",
     "timestamp": 1758346307397,
     "user": {
      "displayName": "Jemin Ramani",
      "userId": "05369953851680502689"
     },
     "user_tz": -330
    },
    "id": "1Vf7lxrE7Nnw",
    "outputId": "9a8ee5b7-7994-4143-8e63-1ca92cd29a98"
   },
   "outputs": [
    {
     "name": "stdout",
     "output_type": "stream",
     "text": [
      "Enter range: 9\n",
      "0 1 1 2 3 5 8 13 21 "
     ]
    }
   ],
   "source": [
    "n = int(input(\"Enter range: \"))\n",
    "a, b = 0, 1\n",
    "for _ in range(n):\n",
    "    print(a, end=\" \")\n",
    "    a, b = b, a+b"
   ]
  },
  {
   "cell_type": "markdown",
   "metadata": {
    "id": "KvhJibZJ7Ufy"
   },
   "source": [
    "7) How memory is managed in Python?\n",
    "\n",
    "* Managed by Python Memory Manager.\n",
    "* Uses reference counting and garbage collector to free unused memory.\n"
   ]
  },
  {
   "cell_type": "markdown",
   "metadata": {
    "id": "82ehE4AV7cDM"
   },
   "source": [
    "8) What is the purpose continuing statement in python?\n",
    "\n",
    "* continue skips the current iteration and jumps to the next iteration of the loop."
   ]
  },
  {
   "cell_type": "markdown",
   "metadata": {
    "id": "qVEHtRYn7j_n"
   },
   "source": [
    "9) Write python program that swap two number with temp variable\n",
    "and without temp variable.\n"
   ]
  },
  {
   "cell_type": "code",
   "execution_count": 4,
   "metadata": {
    "executionInfo": {
     "elapsed": 1,
     "status": "ok",
     "timestamp": 1758346307557,
     "user": {
      "displayName": "Jemin Ramani",
      "userId": "05369953851680502689"
     },
     "user_tz": -330
    },
    "id": "kjsJt1SF7k4J"
   },
   "outputs": [],
   "source": [
    "# With temp\n",
    "a, b = 5, 10\n",
    "temp = a\n",
    "a = b\n",
    "b = temp\n",
    "\n",
    "# Without temp\n",
    "a, b = b, a\n"
   ]
  },
  {
   "cell_type": "markdown",
   "metadata": {
    "id": "sAJSPOhz79GY"
   },
   "source": [
    "10) Write a Python program to find whether a given number is even\n",
    "or odd, print out an appropriate message to the user."
   ]
  },
  {
   "cell_type": "code",
   "execution_count": 5,
   "metadata": {
    "colab": {
     "base_uri": "https://localhost:8080/"
    },
    "executionInfo": {
     "elapsed": 2813,
     "status": "ok",
     "timestamp": 1758346310372,
     "user": {
      "displayName": "Jemin Ramani",
      "userId": "05369953851680502689"
     },
     "user_tz": -330
    },
    "id": "J0w0oHLl7_uN",
    "outputId": "ecde3c6b-07fa-4c14-bd84-d26bcd304eba"
   },
   "outputs": [
    {
     "name": "stdout",
     "output_type": "stream",
     "text": [
      "Enter number: 42\n",
      "Even\n"
     ]
    }
   ],
   "source": [
    "num = int(input(\"Enter number: \"))\n",
    "if num % 2 == 0:\n",
    "    print(\"Even\")\n",
    "else:\n",
    "    print(\"Odd\")\n"
   ]
  },
  {
   "cell_type": "markdown",
   "metadata": {
    "id": "xVGaYYiF8Es2"
   },
   "source": [
    "11) Write a Python program to test whether a passed letter is a vowel\n",
    "or not.\n"
   ]
  },
  {
   "cell_type": "code",
   "execution_count": 6,
   "metadata": {
    "colab": {
     "base_uri": "https://localhost:8080/"
    },
    "executionInfo": {
     "elapsed": 6929,
     "status": "ok",
     "timestamp": 1758346317303,
     "user": {
      "displayName": "Jemin Ramani",
      "userId": "05369953851680502689"
     },
     "user_tz": -330
    },
    "id": "sKwYkOx-8J3l",
    "outputId": "efe2d047-6ad7-40b6-e4b0-3208045e1b1d"
   },
   "outputs": [
    {
     "name": "stdout",
     "output_type": "stream",
     "text": [
      "Enter a letter: Jemin\n",
      "Vowel\n"
     ]
    }
   ],
   "source": [
    "ch = input(\"Enter a letter: \")\n",
    "if ch in \"a\" or \"e\" or \"i\" or \"o\" or \"u\" or \"A\" or \"E\" or \"I\" or \"O\" or \"U\" :\n",
    "    print(\"Vowel\")\n",
    "else:\n",
    "    print(\"Not Vowel\")\n"
   ]
  },
  {
   "cell_type": "markdown",
   "metadata": {
    "id": "uW1zFkBS8o7a"
   },
   "source": [
    "12) Write a Python program to sum of three given integers. However, if\n",
    "two values are equal sum will be zero."
   ]
  },
  {
   "cell_type": "code",
   "execution_count": 7,
   "metadata": {
    "colab": {
     "base_uri": "https://localhost:8080/"
    },
    "executionInfo": {
     "elapsed": 9745,
     "status": "ok",
     "timestamp": 1758346327052,
     "user": {
      "displayName": "Jemin Ramani",
      "userId": "05369953851680502689"
     },
     "user_tz": -330
    },
    "id": "Fp7Fs7Vc8sL-",
    "outputId": "a3fcc76c-307e-44a2-dbe1-59d3729a6fdd"
   },
   "outputs": [
    {
     "name": "stdout",
     "output_type": "stream",
     "text": [
      "Enter first number: 45\n",
      "Enter second number: 35\n",
      "Enter third number: 63\n",
      "Sum is 143\n"
     ]
    }
   ],
   "source": [
    "a = int(input(\"Enter first number: \"))\n",
    "b = int(input(\"Enter second number: \"))\n",
    "c = int(input(\"Enter third number: \"))\n",
    "\n",
    "if a == b or b == c or a == c:\n",
    "    print(\"Sum is zero\")\n",
    "else:\n",
    "    print(\"Sum is\", a+b+c)"
   ]
  },
  {
   "cell_type": "markdown",
   "metadata": {
    "id": "iBhYDnKo9BWJ"
   },
   "source": [
    "13) Write a Python program that will return true if the two given\n",
    "integer values are equal or their sum or difference is 5.\n"
   ]
  },
  {
   "cell_type": "code",
   "execution_count": 8,
   "metadata": {
    "colab": {
     "base_uri": "https://localhost:8080/"
    },
    "executionInfo": {
     "elapsed": 8973,
     "status": "ok",
     "timestamp": 1758346336036,
     "user": {
      "displayName": "Jemin Ramani",
      "userId": "05369953851680502689"
     },
     "user_tz": -330
    },
    "id": "feInVHec9EUa",
    "outputId": "254be3f9-1627-408a-c429-7071411d025b"
   },
   "outputs": [
    {
     "name": "stdout",
     "output_type": "stream",
     "text": [
      "Enter first number: 365\n",
      "Enter second number: 456\n",
      "False\n"
     ]
    }
   ],
   "source": [
    "x = int(input(\"Enter first number: \"))\n",
    "y = int(input(\"Enter second number: \"))\n",
    "\n",
    "if x == y or abs(x - y) == 5 or (x + y) == 5:\n",
    "    print(True)\n",
    "else:\n",
    "    print(False)"
   ]
  },
  {
   "cell_type": "markdown",
   "metadata": {
    "id": "3ZI1IB6h9X9r"
   },
   "source": [
    "14) Write a python program to sum of the first n positive integers."
   ]
  },
  {
   "cell_type": "code",
   "execution_count": 9,
   "metadata": {
    "colab": {
     "base_uri": "https://localhost:8080/"
    },
    "executionInfo": {
     "elapsed": 32,
     "status": "ok",
     "timestamp": 1758346336082,
     "user": {
      "displayName": "Jemin Ramani",
      "userId": "05369953851680502689"
     },
     "user_tz": -330
    },
    "id": "j8XR2qMn9cvl",
    "outputId": "1d3b5f54-6943-4d20-f2df-69d1c9095208"
   },
   "outputs": [
    {
     "name": "stdout",
     "output_type": "stream",
     "text": [
      "55\n"
     ]
    }
   ],
   "source": [
    "n = 10\n",
    "total = n * (n+1) // 2\n",
    "print(total)"
   ]
  },
  {
   "cell_type": "markdown",
   "metadata": {
    "id": "qjOHAZw-9oht"
   },
   "source": [
    "15) Write a Python program to calculate the length of a string.\n"
   ]
  },
  {
   "cell_type": "code",
   "execution_count": 10,
   "metadata": {
    "colab": {
     "base_uri": "https://localhost:8080/"
    },
    "executionInfo": {
     "elapsed": 22,
     "status": "ok",
     "timestamp": 1758346336106,
     "user": {
      "displayName": "Jemin Ramani",
      "userId": "05369953851680502689"
     },
     "user_tz": -330
    },
    "id": "x0byIad_-CVP",
    "outputId": "c0660f70-3b80-426d-dc01-3c978bc3d6e7"
   },
   "outputs": [
    {
     "name": "stdout",
     "output_type": "stream",
     "text": [
      "6\n"
     ]
    }
   ],
   "source": [
    "s = \"Python\"\n",
    "print(len(s))"
   ]
  },
  {
   "cell_type": "markdown",
   "metadata": {
    "id": "H5Gd96FC-HEp"
   },
   "source": []
  },
  {
   "cell_type": "markdown",
   "metadata": {
    "id": "je1j4U0G-HFx"
   },
   "source": [
    "16) Write a Python program to count the number of characters\n",
    "(character frequency) in a string."
   ]
  },
  {
   "cell_type": "code",
   "execution_count": 11,
   "metadata": {
    "colab": {
     "base_uri": "https://localhost:8080/"
    },
    "executionInfo": {
     "elapsed": 164,
     "status": "ok",
     "timestamp": 1758346336271,
     "user": {
      "displayName": "Jemin Ramani",
      "userId": "05369953851680502689"
     },
     "user_tz": -330
    },
    "id": "SxpOacUb-Ksl",
    "outputId": "91a922e5-e6b4-4b38-846d-983c91107e49"
   },
   "outputs": [
    {
     "name": "stdout",
     "output_type": "stream",
     "text": [
      "{'p': 2, 'y': 1, 't': 1, 'h': 1, 'o': 2, 'n': 2, 'r': 2, 'g': 2, 'a': 1, 'm': 2, 'i': 1}\n"
     ]
    }
   ],
   "source": [
    "s = \"pythonprogramming\"\n",
    "freq = {}\n",
    "for ch in s:\n",
    "    freq[ch] = freq.get(ch, 0) + 1\n",
    "print(freq)"
   ]
  },
  {
   "cell_type": "markdown",
   "metadata": {
    "id": "sIRq9jH0-P3J"
   },
   "source": [
    "17) What are negative indexes and why are they used?\n",
    "\n",
    "* Negative indexes start from the end of the string/list.\n",
    "Example: s[-1] gives last element.\n"
   ]
  },
  {
   "cell_type": "markdown",
   "metadata": {
    "id": "R8fx3Ded-bht"
   },
   "source": [
    "18) Write a Python program to count occurrences of a substring in a string.\n"
   ]
  },
  {
   "cell_type": "code",
   "execution_count": 12,
   "metadata": {
    "colab": {
     "base_uri": "https://localhost:8080/"
    },
    "executionInfo": {
     "elapsed": 5,
     "status": "ok",
     "timestamp": 1758346336278,
     "user": {
      "displayName": "Jemin Ramani",
      "userId": "05369953851680502689"
     },
     "user_tz": -330
    },
    "id": "PqCpoA0h-ep5",
    "outputId": "b4e4afd7-e9f2-4c94-b3a8-573343c6e28e"
   },
   "outputs": [
    {
     "name": "stdout",
     "output_type": "stream",
     "text": [
      "2\n"
     ]
    }
   ],
   "source": [
    "s = \"hello world hello\"\n",
    "print(s.count(\"hello\"))"
   ]
  },
  {
   "cell_type": "markdown",
   "metadata": {
    "id": "eygoee7d-imP"
   },
   "source": [
    "19) Write a Python program to count the occurrences of each word in a given sentence.\n"
   ]
  },
  {
   "cell_type": "code",
   "execution_count": 13,
   "metadata": {
    "colab": {
     "base_uri": "https://localhost:8080/"
    },
    "executionInfo": {
     "elapsed": 9,
     "status": "ok",
     "timestamp": 1758346336289,
     "user": {
      "displayName": "Jemin Ramani",
      "userId": "05369953851680502689"
     },
     "user_tz": -330
    },
    "id": "44yYcwQo-knB",
    "outputId": "be79ceae-c002-4b83-a22f-fdfe9a162ff0"
   },
   "outputs": [
    {
     "name": "stdout",
     "output_type": "stream",
     "text": [
      "{'this': 2, 'is': 2, 'a': 1, 'test': 1, 'python': 1}\n"
     ]
    }
   ],
   "source": [
    "s = \"this is a test this is python\"\n",
    "words = s.split()\n",
    "freq = {}\n",
    "for w in words:\n",
    "    freq[w] = freq.get(w, 0) + 1\n",
    "print(freq)"
   ]
  },
  {
   "cell_type": "markdown",
   "metadata": {
    "id": "QYpNdS0F-n8L"
   },
   "source": [
    "20) Write a Python program to get a single string from two given strings,\n",
    "separated by a space and swap the first two characters of each string.\n"
   ]
  },
  {
   "cell_type": "code",
   "execution_count": 14,
   "metadata": {
    "colab": {
     "base_uri": "https://localhost:8080/"
    },
    "executionInfo": {
     "elapsed": 39,
     "status": "ok",
     "timestamp": 1758346336330,
     "user": {
      "displayName": "Jemin Ramani",
      "userId": "05369953851680502689"
     },
     "user_tz": -330
    },
    "id": "WWkVEYIJ-xfY",
    "outputId": "f12a6616-2837-4610-ae4a-6d278785d722"
   },
   "outputs": [
    {
     "name": "stdout",
     "output_type": "stream",
     "text": [
      "xyc abz\n"
     ]
    }
   ],
   "source": [
    "a = \"abc\"\n",
    "b = \"xyz\"\n",
    "\n",
    "result = b[:2] + a[2:] + \" \" + a[:2] + b[2:]\n",
    "print(result)"
   ]
  },
  {
   "cell_type": "markdown",
   "metadata": {
    "id": "Nz-zF187-7UL"
   },
   "source": [
    "21) Write a Python program to add 'in' at the end of a given string (length\n",
    "should be at least 3). If the given string already ends with 'ing' then\n",
    "add 'ly' instead if the string length of the given string is less than 3,\n",
    "leave it unchanged.\n"
   ]
  },
  {
   "cell_type": "code",
   "execution_count": 15,
   "metadata": {
    "colab": {
     "base_uri": "https://localhost:8080/"
    },
    "executionInfo": {
     "elapsed": 6641,
     "status": "ok",
     "timestamp": 1758346342973,
     "user": {
      "displayName": "Jemin Ramani",
      "userId": "05369953851680502689"
     },
     "user_tz": -330
    },
    "id": "ViktonGIM1D3",
    "outputId": "81323f47-9b49-454e-ae23-da3a211ee69f"
   },
   "outputs": [
    {
     "name": "stdout",
     "output_type": "stream",
     "text": [
      "Enter a string: Play\n",
      "Playing\n"
     ]
    }
   ],
   "source": [
    "s = input(\"Enter a string: \")\n",
    "\n",
    "if len(s) >= 3:\n",
    "    if s.endswith(\"ing\"):\n",
    "        s = s + \"ly\"\n",
    "    else:\n",
    "        s = s + \"ing\"\n",
    "\n",
    "print(s)"
   ]
  },
  {
   "cell_type": "markdown",
   "metadata": {
    "id": "lvS14f7MNDRt"
   },
   "source": [
    "22) Write a Python function to reverses a string if its length is a multiple\n",
    "of 4.\n"
   ]
  },
  {
   "cell_type": "code",
   "execution_count": 16,
   "metadata": {
    "colab": {
     "base_uri": "https://localhost:8080/",
     "height": 53
    },
    "executionInfo": {
     "elapsed": 11565,
     "status": "ok",
     "timestamp": 1758346354543,
     "user": {
      "displayName": "Jemin Ramani",
      "userId": "05369953851680502689"
     },
     "user_tz": -330
    },
    "id": "SAuBv7ouNGh_",
    "outputId": "8cb4599d-c5f8-4c2f-a121-7edb88ca99a7"
   },
   "outputs": [
    {
     "name": "stdout",
     "output_type": "stream",
     "text": [
      "Enter a string: Jemin ramani\n"
     ]
    },
    {
     "data": {
      "application/vnd.google.colaboratory.intrinsic+json": {
       "type": "string"
      },
      "text/plain": [
       "'inamar nimeJ'"
      ]
     },
     "execution_count": 16,
     "metadata": {},
     "output_type": "execute_result"
    }
   ],
   "source": [
    "s = input(\"Enter a string: \")\n",
    "\n",
    "def reverse_if_multiple_of_4(s):\n",
    "    return s[::-1] if len(s) % 4 == 0 else s\n",
    "\n",
    "reverse_if_multiple_of_4(s)\n"
   ]
  },
  {
   "cell_type": "markdown",
   "metadata": {
    "id": "jzGb8Ssf1IlR"
   },
   "source": [
    "23) Write a Python program to get a string made of the first 2 and the last\n",
    "2 chars from a given a string. If the string length is less than 2, return\n",
    "instead of the empty string.\n"
   ]
  },
  {
   "cell_type": "code",
   "execution_count": 17,
   "metadata": {
    "colab": {
     "base_uri": "https://localhost:8080/"
    },
    "executionInfo": {
     "elapsed": 11598,
     "status": "ok",
     "timestamp": 1758346366203,
     "user": {
      "displayName": "Jemin Ramani",
      "userId": "05369953851680502689"
     },
     "user_tz": -330
    },
    "id": "M4l9-imM1Plh",
    "outputId": "682812ce-04ea-4e4b-d8a8-226382b5a773"
   },
   "outputs": [
    {
     "name": "stdout",
     "output_type": "stream",
     "text": [
      "Enter a string: jemin \n",
      "Result: jen \n"
     ]
    }
   ],
   "source": [
    "s = input(\"Enter a string: \")\n",
    "\n",
    "if len(s) < 2:\n",
    "    result = \"\"\n",
    "else:\n",
    "    result = s[:2] + s[-2:]\n",
    "\n",
    "print(\"Result:\", result)\n"
   ]
  },
  {
   "cell_type": "markdown",
   "metadata": {
    "id": "vOOe_UUU1km7"
   },
   "source": [
    "24) Write a Python function to insert a string in the middle of a string.\n"
   ]
  },
  {
   "cell_type": "code",
   "execution_count": 18,
   "metadata": {
    "colab": {
     "base_uri": "https://localhost:8080/"
    },
    "executionInfo": {
     "elapsed": 31,
     "status": "ok",
     "timestamp": 1758346366237,
     "user": {
      "displayName": "Jemin Ramani",
      "userId": "05369953851680502689"
     },
     "user_tz": -330
    },
    "id": "MQWKTJQI1nmb",
    "outputId": "0a2d57db-af40-4ed3-f1b6-da0b024d8770"
   },
   "outputs": [
    {
     "name": "stdout",
     "output_type": "stream",
     "text": [
      "pyt123hon\n",
      "heABCllo\n"
     ]
    }
   ],
   "source": [
    "def insert_middle(original, insert):\n",
    "    middle = len(original) // 2\n",
    "    return original[:middle] + insert + original[middle:]\n",
    "\n",
    "print(insert_middle(\"python\", \"123\"))\n",
    "print(insert_middle(\"hello\", \"ABC\"))\n"
   ]
  },
  {
   "cell_type": "markdown",
   "metadata": {
    "id": "9CVPqPJZ1w3v"
   },
   "source": [
    "25) What is List? How will you reverse a list?\n",
    "\n",
    "* A list is a mutable, ordered collection in Python.\n"
   ]
  },
  {
   "cell_type": "code",
   "execution_count": 19,
   "metadata": {
    "executionInfo": {
     "elapsed": 42,
     "status": "ok",
     "timestamp": 1758346366280,
     "user": {
      "displayName": "Jemin Ramani",
      "userId": "05369953851680502689"
     },
     "user_tz": -330
    },
    "id": "cm6ZIjqW17Ry"
   },
   "outputs": [],
   "source": [
    "lst = [1, 2, 3, 4]\n",
    "lst.reverse()   # Method 1\n",
    "lst = lst[::-1] # Method 2"
   ]
  },
  {
   "cell_type": "markdown",
   "metadata": {
    "id": "kKWfwm1N2pK2"
   },
   "source": [
    "26) How will you remove last object from a list?\n"
   ]
  },
  {
   "cell_type": "code",
   "execution_count": 20,
   "metadata": {
    "colab": {
     "base_uri": "https://localhost:8080/"
    },
    "executionInfo": {
     "elapsed": 32,
     "status": "ok",
     "timestamp": 1758346366307,
     "user": {
      "displayName": "Jemin Ramani",
      "userId": "05369953851680502689"
     },
     "user_tz": -330
    },
    "id": "-XGWCDzq2tNz",
    "outputId": "2fc2bc20-9b5a-4e49-a257-573fc29aa0c4"
   },
   "outputs": [
    {
     "data": {
      "text/plain": [
       "3"
      ]
     },
     "execution_count": 20,
     "metadata": {},
     "output_type": "execute_result"
    }
   ],
   "source": [
    "lst = [1, 2, 3]\n",
    "lst.pop()"
   ]
  },
  {
   "cell_type": "markdown",
   "metadata": {
    "id": "XmWwDIiP2uKC"
   },
   "source": [
    "27) Suppose list1 is [2, 33, 222, 14, and 25], what is list1 [-\n",
    "1]?\n",
    "\n",
    "* If list1 = [2, 33, 222, 14, 25], then:\n",
    "   list1[-1] = 25 (last element)."
   ]
  },
  {
   "cell_type": "code",
   "execution_count": 21,
   "metadata": {
    "colab": {
     "base_uri": "https://localhost:8080/"
    },
    "executionInfo": {
     "elapsed": 12,
     "status": "ok",
     "timestamp": 1758346366320,
     "user": {
      "displayName": "Jemin Ramani",
      "userId": "05369953851680502689"
     },
     "user_tz": -330
    },
    "id": "PNeS4y502wlm",
    "outputId": "1142ca9b-14b6-48c5-ef85-9651937d83ef"
   },
   "outputs": [
    {
     "data": {
      "text/plain": [
       "25"
      ]
     },
     "execution_count": 21,
     "metadata": {},
     "output_type": "execute_result"
    }
   ],
   "source": [
    "list1 = [2, 33, 222, 14, 25]\n",
    "list1[-1]"
   ]
  },
  {
   "cell_type": "markdown",
   "metadata": {
    "id": "JtHeXlI43Hs7"
   },
   "source": [
    "28) Differentiate between append () and extend () methods?\n",
    "\n",
    "* append(x) → Adds single element to list.\n",
    "* extend([x,y]) → Adds multiple elements (iterable) to list."
   ]
  },
  {
   "cell_type": "markdown",
   "metadata": {
    "id": "mSMbW1Qi3QQ-"
   },
   "source": [
    "29) Write a Python function to get the largest number, smallest num\n",
    "and sum of all from a list."
   ]
  },
  {
   "cell_type": "code",
   "execution_count": 22,
   "metadata": {
    "colab": {
     "base_uri": "https://localhost:8080/"
    },
    "executionInfo": {
     "elapsed": 11,
     "status": "ok",
     "timestamp": 1758346366353,
     "user": {
      "displayName": "Jemin Ramani",
      "userId": "05369953851680502689"
     },
     "user_tz": -330
    },
    "id": "pH0Q7lwD3TcI",
    "outputId": "f94393bc-3ca4-4273-de4b-72e0a3d99759"
   },
   "outputs": [
    {
     "name": "stdout",
     "output_type": "stream",
     "text": [
      "30 5 65\n"
     ]
    }
   ],
   "source": [
    "lst = [10, 20, 30, 5]\n",
    "print(max(lst), min(lst), sum(lst))"
   ]
  },
  {
   "cell_type": "markdown",
   "metadata": {
    "id": "5GtVmNuA3XAD"
   },
   "source": [
    "30) How will you compare two lists?"
   ]
  },
  {
   "cell_type": "code",
   "execution_count": 23,
   "metadata": {
    "colab": {
     "base_uri": "https://localhost:8080/"
    },
    "executionInfo": {
     "elapsed": 5,
     "status": "ok",
     "timestamp": 1758346366359,
     "user": {
      "displayName": "Jemin Ramani",
      "userId": "05369953851680502689"
     },
     "user_tz": -330
    },
    "id": "NRlc3_aP3bAw",
    "outputId": "666b7c71-ef44-44c9-b105-f21afe783787"
   },
   "outputs": [
    {
     "name": "stdout",
     "output_type": "stream",
     "text": [
      "True\n"
     ]
    }
   ],
   "source": [
    "list1 = [1, 2, 3]\n",
    "list2 = [1, 2, 3]\n",
    "print(list1 == list2)"
   ]
  },
  {
   "cell_type": "markdown",
   "metadata": {
    "id": "tfrWK9i13sLW"
   },
   "source": [
    "31) Write a Python program to count the number of strings where the string\n",
    "length is 2 or more and the first and last character are same from a given list\n",
    "of strings.\n"
   ]
  },
  {
   "cell_type": "code",
   "execution_count": 24,
   "metadata": {
    "colab": {
     "base_uri": "https://localhost:8080/"
    },
    "executionInfo": {
     "elapsed": 6,
     "status": "ok",
     "timestamp": 1758346366366,
     "user": {
      "displayName": "Jemin Ramani",
      "userId": "05369953851680502689"
     },
     "user_tz": -330
    },
    "id": "FXBYurx43vqc",
    "outputId": "97b8d04d-2cb2-41d4-c07f-a6c51d59f28f"
   },
   "outputs": [
    {
     "name": "stdout",
     "output_type": "stream",
     "text": [
      "3\n"
     ]
    }
   ],
   "source": [
    "list2 = [\"aba\", \"xyz\", \"aa\", \"1221\"]\n",
    "count = 0\n",
    "for word in list2:\n",
    "    if len(word) >= 2 and word[0] == word[-1]:\n",
    "        count += 1\n",
    "print(count)"
   ]
  },
  {
   "cell_type": "markdown",
   "metadata": {
    "id": "Olbg2z5P4Cla"
   },
   "source": [
    "32) Write a Python program to remove duplicates from a list.\n"
   ]
  },
  {
   "cell_type": "code",
   "execution_count": 25,
   "metadata": {
    "colab": {
     "base_uri": "https://localhost:8080/"
    },
    "executionInfo": {
     "elapsed": 5,
     "status": "ok",
     "timestamp": 1758346366399,
     "user": {
      "displayName": "Jemin Ramani",
      "userId": "05369953851680502689"
     },
     "user_tz": -330
    },
    "id": "4KPEhKck4Fol",
    "outputId": "6dd3aa63-a0fe-45ad-ea41-ea05bb6455b4"
   },
   "outputs": [
    {
     "name": "stdout",
     "output_type": "stream",
     "text": [
      "[1, 2, 3, 4, 5]\n"
     ]
    }
   ],
   "source": [
    "list1 = [1, 2, 2, 3, 4, 4, 5]\n",
    "unique = list(set(list1))\n",
    "print(unique)"
   ]
  },
  {
   "cell_type": "markdown",
   "metadata": {
    "id": "Z4u-LqQl4NrO"
   },
   "source": [
    "33) Write a Python program to check a list is empty or not.\n"
   ]
  },
  {
   "cell_type": "code",
   "execution_count": 26,
   "metadata": {
    "colab": {
     "base_uri": "https://localhost:8080/"
    },
    "executionInfo": {
     "elapsed": 49,
     "status": "ok",
     "timestamp": 1758346366449,
     "user": {
      "displayName": "Jemin Ramani",
      "userId": "05369953851680502689"
     },
     "user_tz": -330
    },
    "id": "A2Mj-MDX4QrX",
    "outputId": "fc762556-ec45-494b-e595-69ac304a3768"
   },
   "outputs": [
    {
     "name": "stdout",
     "output_type": "stream",
     "text": [
      "Empty\n"
     ]
    }
   ],
   "source": [
    "list1 = []\n",
    "if not list1:\n",
    "    print(\"Empty\")\n",
    "else:\n",
    "    print(\"Not Empty\")"
   ]
  },
  {
   "cell_type": "markdown",
   "metadata": {
    "id": "cMTkFstY4sqe"
   },
   "source": [
    "34) Write a Python function that takes two lists and returns true if they\n",
    "have at least one common member.\n"
   ]
  },
  {
   "cell_type": "code",
   "execution_count": 27,
   "metadata": {
    "colab": {
     "base_uri": "https://localhost:8080/"
    },
    "executionInfo": {
     "elapsed": 7,
     "status": "ok",
     "timestamp": 1758346366455,
     "user": {
      "displayName": "Jemin Ramani",
      "userId": "05369953851680502689"
     },
     "user_tz": -330
    },
    "id": "NCRSiOzt4ux6",
    "outputId": "00ba37b0-aefc-4298-b99e-4834a1e08ed1"
   },
   "outputs": [
    {
     "name": "stdout",
     "output_type": "stream",
     "text": [
      "True\n"
     ]
    }
   ],
   "source": [
    "list1 = [1, 2, 3, 4]\n",
    "list2 = [5, 6, 7, 3]\n",
    "common = any(item in list1 for item in list2)\n",
    "print(common)"
   ]
  },
  {
   "cell_type": "markdown",
   "metadata": {
    "id": "2LOoK9VJ48ab"
   },
   "source": [
    "35) Write a Python program to generate and print a list of first and last 5\n",
    "elements where the values are square of numbers between 1 and 30."
   ]
  },
  {
   "cell_type": "code",
   "execution_count": 28,
   "metadata": {
    "colab": {
     "base_uri": "https://localhost:8080/"
    },
    "executionInfo": {
     "elapsed": 5,
     "status": "ok",
     "timestamp": 1758346366461,
     "user": {
      "displayName": "Jemin Ramani",
      "userId": "05369953851680502689"
     },
     "user_tz": -330
    },
    "id": "EBEcqhvQ4-nG",
    "outputId": "76adbe5e-bc8d-4bdc-d680-96af0ef22020"
   },
   "outputs": [
    {
     "name": "stdout",
     "output_type": "stream",
     "text": [
      "[1, 4, 9, 16, 25, 676, 729, 784, 841, 900]\n"
     ]
    }
   ],
   "source": [
    "list1 = [x**2 for x in range(1, 31)]\n",
    "result = list1[:5] + list1[-5:]\n",
    "print(result)"
   ]
  },
  {
   "cell_type": "markdown",
   "metadata": {
    "id": "H6eg1r9Q5JeK"
   },
   "source": [
    "36) Write a Python function that takes a list and returns a new list with\n",
    "unique elements of the first list"
   ]
  },
  {
   "cell_type": "code",
   "execution_count": 29,
   "metadata": {
    "colab": {
     "base_uri": "https://localhost:8080/"
    },
    "executionInfo": {
     "elapsed": 6,
     "status": "ok",
     "timestamp": 1758346366468,
     "user": {
      "displayName": "Jemin Ramani",
      "userId": "05369953851680502689"
     },
     "user_tz": -330
    },
    "id": "99n5Olht5OrX",
    "outputId": "0225be00-3cc8-4ecd-ddf5-0c1f708764b8"
   },
   "outputs": [
    {
     "name": "stdout",
     "output_type": "stream",
     "text": [
      "[1, 2, 3, 4, 5]\n"
     ]
    }
   ],
   "source": [
    "list1 = [1, 2, 2, 3, 4, 4, 5]\n",
    "unique = []\n",
    "for x in list1:\n",
    "    if x not in unique:\n",
    "        unique.append(x)\n",
    "print(unique)"
   ]
  },
  {
   "cell_type": "markdown",
   "metadata": {
    "id": "zgDdpx_A5ctC"
   },
   "source": [
    "37) Write a Python program to convert a list of characters into a string.\n"
   ]
  },
  {
   "cell_type": "code",
   "execution_count": 30,
   "metadata": {
    "colab": {
     "base_uri": "https://localhost:8080/"
    },
    "executionInfo": {
     "elapsed": 5,
     "status": "ok",
     "timestamp": 1758346366474,
     "user": {
      "displayName": "Jemin Ramani",
      "userId": "05369953851680502689"
     },
     "user_tz": -330
    },
    "id": "Orov0zKB5er8",
    "outputId": "d86b8684-72ef-4e45-e826-bb675c93a073"
   },
   "outputs": [
    {
     "name": "stdout",
     "output_type": "stream",
     "text": [
      "['P', 'y', 't', 'h', 'o', 'n']\n"
     ]
    }
   ],
   "source": [
    "list1 = ['P', 'y', 't', 'h', 'o', 'n']\n",
    "string1 = ''.join(list1)\n",
    "print(list1)"
   ]
  },
  {
   "cell_type": "markdown",
   "metadata": {
    "id": "JoFrMFJC5lgq"
   },
   "source": [
    "38) Write a Python program to select an item randomly from a list.\n"
   ]
  },
  {
   "cell_type": "code",
   "execution_count": 31,
   "metadata": {
    "colab": {
     "base_uri": "https://localhost:8080/"
    },
    "executionInfo": {
     "elapsed": 23,
     "status": "ok",
     "timestamp": 1758346366498,
     "user": {
      "displayName": "Jemin Ramani",
      "userId": "05369953851680502689"
     },
     "user_tz": -330
    },
    "id": "5nfiVl5E5n43",
    "outputId": "c894277d-1093-47d7-e7f5-33cba18f621d"
   },
   "outputs": [
    {
     "name": "stdout",
     "output_type": "stream",
     "text": [
      "30\n"
     ]
    }
   ],
   "source": [
    "import random\n",
    "\n",
    "list1 = [10, 20, 30, 40, 50]\n",
    "random = random.choice(list1)\n",
    "print(random)"
   ]
  },
  {
   "cell_type": "markdown",
   "metadata": {
    "id": "SDxlWbQD5v56"
   },
   "source": [
    "39) Write a Python program to find the second smallest number in a list.\n"
   ]
  },
  {
   "cell_type": "code",
   "execution_count": 32,
   "metadata": {
    "colab": {
     "base_uri": "https://localhost:8080/"
    },
    "executionInfo": {
     "elapsed": 131,
     "status": "ok",
     "timestamp": 1758346366658,
     "user": {
      "displayName": "Jemin Ramani",
      "userId": "05369953851680502689"
     },
     "user_tz": -330
    },
    "id": "3iZTi0Zf5yVG",
    "outputId": "1f6ce03b-5a62-46a1-9291-b8a7da70016f"
   },
   "outputs": [
    {
     "name": "stdout",
     "output_type": "stream",
     "text": [
      "2\n"
     ]
    }
   ],
   "source": [
    "list1 = [5, 2, 9, 1, 7]\n",
    "list1.sort()\n",
    "small = list1[1]\n",
    "print(small)"
   ]
  },
  {
   "cell_type": "markdown",
   "metadata": {
    "id": "2IU848KL6ETw"
   },
   "source": [
    "40) Write a Python program to get unique values from a list\n"
   ]
  },
  {
   "cell_type": "code",
   "execution_count": 33,
   "metadata": {
    "colab": {
     "base_uri": "https://localhost:8080/"
    },
    "executionInfo": {
     "elapsed": 124,
     "status": "ok",
     "timestamp": 1758346366784,
     "user": {
      "displayName": "Jemin Ramani",
      "userId": "05369953851680502689"
     },
     "user_tz": -330
    },
    "id": "BI3-BcnC6GaE",
    "outputId": "1c9fd897-8436-433a-b46d-4ed03d8367d9"
   },
   "outputs": [
    {
     "name": "stdout",
     "output_type": "stream",
     "text": [
      "[1, 2, 3, 4, 5]\n"
     ]
    }
   ],
   "source": [
    "list1 = [1, 2, 2, 3, 4, 4, 5]\n",
    "unique = list(set(list1))\n",
    "print(unique)"
   ]
  },
  {
   "cell_type": "markdown",
   "metadata": {
    "id": "Fljv1XWh6Qtq"
   },
   "source": [
    "41) Write a Python program to check whether a list contains a sub list\n"
   ]
  },
  {
   "cell_type": "code",
   "execution_count": 34,
   "metadata": {
    "colab": {
     "base_uri": "https://localhost:8080/"
    },
    "executionInfo": {
     "elapsed": 83,
     "status": "ok",
     "timestamp": 1758346366786,
     "user": {
      "displayName": "Jemin Ramani",
      "userId": "05369953851680502689"
     },
     "user_tz": -330
    },
    "id": "3UT7-ClmHXny",
    "outputId": "58ca7224-f926-48cb-b9fd-a68ac9247c36"
   },
   "outputs": [
    {
     "name": "stdout",
     "output_type": "stream",
     "text": [
      "True\n"
     ]
    }
   ],
   "source": [
    "list1 = [1, 2, 3, 4, 5]\n",
    "sub = [2, 3]\n",
    "contains = str(sub)[1:-1] in str(list1)\n",
    "print(contains)\n"
   ]
  },
  {
   "cell_type": "markdown",
   "metadata": {
    "id": "rVvriveKJTQm"
   },
   "source": [
    "42) Write a Python program to split a list into different variables.\n"
   ]
  },
  {
   "cell_type": "code",
   "execution_count": 35,
   "metadata": {
    "colab": {
     "base_uri": "https://localhost:8080/"
    },
    "executionInfo": {
     "elapsed": 65,
     "status": "ok",
     "timestamp": 1758346366786,
     "user": {
      "displayName": "Jemin Ramani",
      "userId": "05369953851680502689"
     },
     "user_tz": -330
    },
    "id": "-DDowO8DJVb6",
    "outputId": "0dc7ab36-610f-4662-b25a-fa6ac260cf5b"
   },
   "outputs": [
    {
     "name": "stdout",
     "output_type": "stream",
     "text": [
      "10 20 30\n"
     ]
    }
   ],
   "source": [
    "list1 = [10, 20, 30]\n",
    "a, b, c = list1\n",
    "print(a, b, c)\n"
   ]
  },
  {
   "cell_type": "markdown",
   "metadata": {
    "id": "A8M5_CA9Jgcn"
   },
   "source": [
    "43) What is tuple? Difference between list and tuple.\n",
    "\n",
    "* Tuple → Immutable, fixed size, faster. Example: (1,2,3)\n",
    "* List → Mutable, resizable. Example: [1,2,3]"
   ]
  },
  {
   "cell_type": "markdown",
   "metadata": {
    "id": "eeJHVFjQJnvW"
   },
   "source": [
    "44) Write a Python program to create a tuple with different data types.\n"
   ]
  },
  {
   "cell_type": "code",
   "execution_count": 36,
   "metadata": {
    "colab": {
     "base_uri": "https://localhost:8080/"
    },
    "executionInfo": {
     "elapsed": 60,
     "status": "ok",
     "timestamp": 1758346366787,
     "user": {
      "displayName": "Jemin Ramani",
      "userId": "05369953851680502689"
     },
     "user_tz": -330
    },
    "id": "mQT1g87EJqKR",
    "outputId": "b2d5ded7-c22e-4d24-974a-611ed58bdf3a"
   },
   "outputs": [
    {
     "name": "stdout",
     "output_type": "stream",
     "text": [
      "(1, 'Python', 3.14, True)\n"
     ]
    }
   ],
   "source": [
    "tup = (1, \"Python\", 3.14, True)\n",
    "print(tup)\n"
   ]
  },
  {
   "cell_type": "markdown",
   "metadata": {
    "id": "nkyAqntcJvMW"
   },
   "source": []
  },
  {
   "cell_type": "markdown",
   "metadata": {
    "id": "nJQEdX3PJvOE"
   },
   "source": [
    "45) Write a Python program to unzip a list of tuples into individual lists.\n"
   ]
  },
  {
   "cell_type": "code",
   "execution_count": 37,
   "metadata": {
    "colab": {
     "base_uri": "https://localhost:8080/"
    },
    "executionInfo": {
     "elapsed": 149,
     "status": "ok",
     "timestamp": 1758346366932,
     "user": {
      "displayName": "Jemin Ramani",
      "userId": "05369953851680502689"
     },
     "user_tz": -330
    },
    "id": "rMYjG58-JxV4",
    "outputId": "3a220c2e-b7a4-4b14-e6bd-48247a406f90"
   },
   "outputs": [
    {
     "name": "stdout",
     "output_type": "stream",
     "text": [
      "(1, 2, 3) ('a', 'b', 'c')\n"
     ]
    }
   ],
   "source": [
    "list1 = [(1, 'a'), (2, 'b'), (3, 'c')]\n",
    "num, char = zip(*list1)\n",
    "print(num, char)\n"
   ]
  },
  {
   "cell_type": "markdown",
   "metadata": {
    "id": "Gukza0R2KSBD"
   },
   "source": [
    "46) Write a Python program to convert a list of tuples into a dictionary.\n"
   ]
  },
  {
   "cell_type": "code",
   "execution_count": 38,
   "metadata": {
    "colab": {
     "base_uri": "https://localhost:8080/"
    },
    "executionInfo": {
     "elapsed": 44,
     "status": "ok",
     "timestamp": 1758346366978,
     "user": {
      "displayName": "Jemin Ramani",
      "userId": "05369953851680502689"
     },
     "user_tz": -330
    },
    "id": "dJ4fwj6mKU_6",
    "outputId": "1d2792eb-a8ff-4cab-a430-ad25b25cbb42"
   },
   "outputs": [
    {
     "name": "stdout",
     "output_type": "stream",
     "text": [
      "{1: 'a', 2: 'b', 3: 'c'}\n"
     ]
    }
   ],
   "source": [
    "list1 = [(1, 'a'), (2, 'b'), (3, 'c')]\n",
    "dict1 = dict(list1)\n",
    "print(dict1)\n"
   ]
  },
  {
   "cell_type": "markdown",
   "metadata": {
    "id": "Y3Kh89eAKf9U"
   },
   "source": [
    "47) How will you create a dictionary using tuples in python?\n"
   ]
  },
  {
   "cell_type": "code",
   "execution_count": 39,
   "metadata": {
    "colab": {
     "base_uri": "https://localhost:8080/"
    },
    "executionInfo": {
     "elapsed": 27,
     "status": "ok",
     "timestamp": 1758346367002,
     "user": {
      "displayName": "Jemin Ramani",
      "userId": "05369953851680502689"
     },
     "user_tz": -330
    },
    "id": "aHopgprXKjVA",
    "outputId": "78fc3191-4700-447e-97ff-0467d5db4655"
   },
   "outputs": [
    {
     "name": "stdout",
     "output_type": "stream",
     "text": [
      "{'name': 'Jemin', 'age': 21}\n"
     ]
    }
   ],
   "source": [
    "tup = ((\"name\", \"Jemin\"), (\"age\", 21))\n",
    "dict1 = dict(tup)\n",
    "print(dict1)\n"
   ]
  },
  {
   "cell_type": "markdown",
   "metadata": {
    "id": "ianVu5JHKp6q"
   },
   "source": [
    "48) Write a Python script to sort (ascending and descending) a\n",
    "dictionary by value."
   ]
  },
  {
   "cell_type": "code",
   "execution_count": 40,
   "metadata": {
    "colab": {
     "base_uri": "https://localhost:8080/"
    },
    "executionInfo": {
     "elapsed": 12,
     "status": "ok",
     "timestamp": 1758346367015,
     "user": {
      "displayName": "Jemin Ramani",
      "userId": "05369953851680502689"
     },
     "user_tz": -330
    },
    "id": "8P6OiQpTKsdY",
    "outputId": "6b7ae2f8-f25d-4509-9892-f7cbf7dad2aa"
   },
   "outputs": [
    {
     "name": "stdout",
     "output_type": "stream",
     "text": [
      "{'b': 1, 'c': 2, 'a': 3} {'a': 3, 'c': 2, 'b': 1}\n"
     ]
    }
   ],
   "source": [
    "dict1 = {\"a\": 3, \"b\": 1, \"c\": 2}\n",
    "asc = dict(sorted(dict1.items(), key=lambda x: x[1]))\n",
    "desc = dict(sorted(dict1.items(), key=lambda x: x[1], reverse=True))\n",
    "print(asc, desc)\n"
   ]
  },
  {
   "cell_type": "markdown",
   "metadata": {
    "id": "P8fMiW3CK_m4"
   },
   "source": [
    "49) Write a Python script to concatenate following dictionaries to create\n",
    "a new one."
   ]
  },
  {
   "cell_type": "code",
   "execution_count": 41,
   "metadata": {
    "colab": {
     "base_uri": "https://localhost:8080/"
    },
    "executionInfo": {
     "elapsed": 5,
     "status": "ok",
     "timestamp": 1758346367021,
     "user": {
      "displayName": "Jemin Ramani",
      "userId": "05369953851680502689"
     },
     "user_tz": -330
    },
    "id": "GYP-A8IkLBei",
    "outputId": "aaf57e5f-169a-428c-9244-7452223124b0"
   },
   "outputs": [
    {
     "name": "stdout",
     "output_type": "stream",
     "text": [
      "{'a': 1, 'b': 2, 'c': 3, 'd': 4}\n"
     ]
    }
   ],
   "source": [
    "dict1 = {\"a\": 1, \"b\": 2}\n",
    "dict2 = {\"c\": 3, \"d\": 4}\n",
    "dict3 = {**dict1, **dict2}\n",
    "print(dict3)\n"
   ]
  },
  {
   "cell_type": "markdown",
   "metadata": {
    "id": "_jKTb29YLM2Y"
   },
   "source": [
    "50) Write a Python script to check if a given key already exists in a\n",
    "dictionary."
   ]
  },
  {
   "cell_type": "code",
   "execution_count": 42,
   "metadata": {
    "colab": {
     "base_uri": "https://localhost:8080/"
    },
    "executionInfo": {
     "elapsed": 5,
     "status": "ok",
     "timestamp": 1758346367027,
     "user": {
      "displayName": "Jemin Ramani",
      "userId": "05369953851680502689"
     },
     "user_tz": -330
    },
    "id": "JvTBAJIsLPMM",
    "outputId": "9e9c72bd-c09d-431a-fadb-d0e7bc9f15e2"
   },
   "outputs": [
    {
     "name": "stdout",
     "output_type": "stream",
     "text": [
      "True\n"
     ]
    }
   ],
   "source": [
    "dict1 = {\"a\": 1, \"b\": 2}\n",
    "key = \"a\"\n",
    "print(key in dict1)   # True\n"
   ]
  },
  {
   "cell_type": "markdown",
   "metadata": {
    "id": "268JpdD3LWzW"
   },
   "source": [
    "51) How Do You Traverse Through a Dictionary Object in Python?\n"
   ]
  },
  {
   "cell_type": "code",
   "execution_count": 43,
   "metadata": {
    "colab": {
     "base_uri": "https://localhost:8080/"
    },
    "executionInfo": {
     "elapsed": 6,
     "status": "ok",
     "timestamp": 1758346367035,
     "user": {
      "displayName": "Jemin Ramani",
      "userId": "05369953851680502689"
     },
     "user_tz": -330
    },
    "id": "KdMGnr25LcLy",
    "outputId": "61f402f8-a16c-4c60-9290-a167ca2b365b"
   },
   "outputs": [
    {
     "name": "stdout",
     "output_type": "stream",
     "text": [
      "a 1\n",
      "b 2\n",
      "c 3\n"
     ]
    }
   ],
   "source": [
    "dict1 = {\"a\": 1, \"b\": 2, \"c\": 3}\n",
    "for key, value in dict1.items():\n",
    "    print(key, value)\n"
   ]
  },
  {
   "cell_type": "markdown",
   "metadata": {
    "id": "y8fUt1PJLjy8"
   },
   "source": [
    "52) How Do You Check the Presence of a Key in A Dictionary?\n"
   ]
  },
  {
   "cell_type": "code",
   "execution_count": 44,
   "metadata": {
    "colab": {
     "base_uri": "https://localhost:8080/"
    },
    "executionInfo": {
     "elapsed": 5,
     "status": "ok",
     "timestamp": 1758346367041,
     "user": {
      "displayName": "Jemin Ramani",
      "userId": "05369953851680502689"
     },
     "user_tz": -330
    },
    "id": "DR89NterLmhj",
    "outputId": "55947aaa-9c04-4ff3-8943-07a219d6c861"
   },
   "outputs": [
    {
     "name": "stdout",
     "output_type": "stream",
     "text": [
      "True\n"
     ]
    }
   ],
   "source": [
    "dict1 = {\"x\": 10, \"y\": 20}\n",
    "key = \"x\"\n",
    "print(key in dict1)  # True\n"
   ]
  },
  {
   "cell_type": "markdown",
   "metadata": {
    "id": "Z4EcpJIrLqUG"
   },
   "source": [
    "53) Write a Python script to print a dictionary where the keys are\n",
    "numbers between 1 and 15."
   ]
  },
  {
   "cell_type": "code",
   "execution_count": 45,
   "metadata": {
    "colab": {
     "base_uri": "https://localhost:8080/"
    },
    "executionInfo": {
     "elapsed": 7,
     "status": "ok",
     "timestamp": 1758346367049,
     "user": {
      "displayName": "Jemin Ramani",
      "userId": "05369953851680502689"
     },
     "user_tz": -330
    },
    "id": "tat5IcrbLsNj",
    "outputId": "13d278b6-691c-44f1-8e26-129d933a6a29"
   },
   "outputs": [
    {
     "name": "stdout",
     "output_type": "stream",
     "text": [
      "{1: 1, 2: 4, 3: 9, 4: 16, 5: 25, 6: 36, 7: 49, 8: 64, 9: 81, 10: 100, 11: 121, 12: 144, 13: 169, 14: 196, 15: 225}\n"
     ]
    }
   ],
   "source": [
    "dict1 = {x: x**2 for x in range(1, 16)}\n",
    "print(dict1)\n"
   ]
  },
  {
   "cell_type": "markdown",
   "metadata": {
    "id": "fIFp4QKmVOFI"
   },
   "source": [
    "54) Write a Python program to check multiple keys exists in a dictionary\n"
   ]
  },
  {
   "cell_type": "code",
   "execution_count": 46,
   "metadata": {
    "colab": {
     "base_uri": "https://localhost:8080/"
    },
    "executionInfo": {
     "elapsed": 33,
     "status": "ok",
     "timestamp": 1758346367082,
     "user": {
      "displayName": "Jemin Ramani",
      "userId": "05369953851680502689"
     },
     "user_tz": -330
    },
    "id": "zQEW-UueVOuv",
    "outputId": "21d77c5b-01d9-45d1-95bb-3be8ad9971e5"
   },
   "outputs": [
    {
     "name": "stdout",
     "output_type": "stream",
     "text": [
      "True\n"
     ]
    }
   ],
   "source": [
    "dict1 = {\"a\": 1, \"b\": 2, \"c\": 3}\n",
    "keys = {\"a\", \"c\"}\n",
    "print(keys.issubset(dict1.keys()))\n"
   ]
  },
  {
   "cell_type": "markdown",
   "metadata": {
    "id": "l55AcIbYVU3W"
   },
   "source": [
    "55) Write a Python script to merge two Python dictionaries\n"
   ]
  },
  {
   "cell_type": "code",
   "execution_count": 47,
   "metadata": {
    "colab": {
     "base_uri": "https://localhost:8080/"
    },
    "executionInfo": {
     "elapsed": 12,
     "status": "ok",
     "timestamp": 1758346367095,
     "user": {
      "displayName": "Jemin Ramani",
      "userId": "05369953851680502689"
     },
     "user_tz": -330
    },
    "id": "V--3rHRdVWie",
    "outputId": "f011e570-d00c-49e1-b126-a978c0caabb1"
   },
   "outputs": [
    {
     "name": "stdout",
     "output_type": "stream",
     "text": [
      "{'a': 100, 'b': 200, 'c': 300, 'd': 400}\n"
     ]
    }
   ],
   "source": [
    "dict1 = {\"a\": 100, \"b\": 200}\n",
    "dict2 = {\"c\": 300, \"d\": 400}\n",
    "merge = {**dict1, **dict2}\n",
    "print(merge)\n"
   ]
  },
  {
   "cell_type": "markdown",
   "metadata": {
    "id": "jP3dnCf1VjdE"
   },
   "source": [
    "56) Write a Python program to map two lists into a dictionary\n",
    "* Sample output: Counter ({'a': 400, 'b': 400,’d’: 400, 'c': 300})."
   ]
  },
  {
   "cell_type": "code",
   "execution_count": 48,
   "metadata": {
    "colab": {
     "base_uri": "https://localhost:8080/"
    },
    "executionInfo": {
     "elapsed": 5,
     "status": "ok",
     "timestamp": 1758346367101,
     "user": {
      "displayName": "Jemin Ramani",
      "userId": "05369953851680502689"
     },
     "user_tz": -330
    },
    "id": "FIS2KtZZVnNw",
    "outputId": "cd1ca940-100d-43b5-d0b8-b05f3c08bdec"
   },
   "outputs": [
    {
     "name": "stdout",
     "output_type": "stream",
     "text": [
      "Counter({'a': 400, 'b': 400, 'd': 400, 'c': 300})\n"
     ]
    }
   ],
   "source": [
    "from collections import Counter\n",
    "\n",
    "keys = ['a', 'b', 'c', 'd']\n",
    "values = [400, 400, 300, 400]\n",
    "\n",
    "my_dict = dict(zip(keys, values))\n",
    "result = Counter(my_dict)\n",
    "print(result)\n"
   ]
  },
  {
   "cell_type": "markdown",
   "metadata": {
    "id": "ZIiD4lggWpSk"
   },
   "source": [
    "57) Write a Python program to find the highest 3 values in a dictionary\n"
   ]
  },
  {
   "cell_type": "code",
   "execution_count": 49,
   "metadata": {
    "colab": {
     "base_uri": "https://localhost:8080/"
    },
    "executionInfo": {
     "elapsed": 5,
     "status": "ok",
     "timestamp": 1758346367107,
     "user": {
      "displayName": "Jemin Ramani",
      "userId": "05369953851680502689"
     },
     "user_tz": -330
    },
    "id": "3yrJ9WChWs5e",
    "outputId": "d00eb30c-2f11-47bf-8e35-d2451ca591ef"
   },
   "outputs": [
    {
     "name": "stdout",
     "output_type": "stream",
     "text": [
      "[400, 250, 200]\n"
     ]
    }
   ],
   "source": [
    "dict1 = {\"a\": 100, \"b\": 200, \"c\": 50, \"d\": 400, \"e\": 250}\n",
    "top3 = sorted(dict1.values(), reverse=True)[:3]\n",
    "print(top3)\n"
   ]
  },
  {
   "cell_type": "markdown",
   "metadata": {
    "id": "SE1Moj_nXBLw"
   },
   "source": [
    "58) Write a Python program to combine values in python list of dictionaries.\n",
    "\n",
    "* Sample data: [{'item': 'item1', 'amount': 400}, {'item': 'item2', 'amount':\n",
    "300}, o {'item': 'item1', 'amount': 750}]\n",
    "* Expected Output:\n",
    "• Counter ({'item1': 1150, 'item2': 300})"
   ]
  },
  {
   "cell_type": "code",
   "execution_count": 50,
   "metadata": {
    "colab": {
     "base_uri": "https://localhost:8080/"
    },
    "executionInfo": {
     "elapsed": 5,
     "status": "ok",
     "timestamp": 1758346367113,
     "user": {
      "displayName": "Jemin Ramani",
      "userId": "05369953851680502689"
     },
     "user_tz": -330
    },
    "id": "sofQaQk5XHeY",
    "outputId": "b9f7454c-9619-4a22-a451-90edd927830f"
   },
   "outputs": [
    {
     "name": "stdout",
     "output_type": "stream",
     "text": [
      "Counter({'item1': 1150, 'item2': 300})\n"
     ]
    }
   ],
   "source": [
    "from collections import Counter\n",
    "\n",
    "list1 = [{'item': 'item1', 'amount': 400},\n",
    "            {'item': 'item2', 'amount': 300},\n",
    "            {'item': 'item1', 'amount': 750}]\n",
    "count = Counter()\n",
    "\n",
    "for d in list1:\n",
    "    count[d['item']] += d['amount']\n",
    "print(count)\n"
   ]
  },
  {
   "cell_type": "markdown",
   "metadata": {
    "id": "hmb2ABHJXrlI"
   },
   "source": [
    "59) Write a Python program to create a dictionary from a string.\n",
    "Note: Track the count of the letters from the string."
   ]
  },
  {
   "cell_type": "code",
   "execution_count": 51,
   "metadata": {
    "colab": {
     "base_uri": "https://localhost:8080/"
    },
    "executionInfo": {
     "elapsed": 6,
     "status": "ok",
     "timestamp": 1758346367120,
     "user": {
      "displayName": "Jemin Ramani",
      "userId": "05369953851680502689"
     },
     "user_tz": -330
    },
    "id": "Zcw1g3PQXtrk",
    "outputId": "4870275f-8f33-4d6a-d375-390afb599dc3"
   },
   "outputs": [
    {
     "name": "stdout",
     "output_type": "stream",
     "text": [
      "{'j': 1, 'e': 1, 'm': 2, 'i': 2, 'n': 2, 'r': 1, 'a': 2}\n"
     ]
    }
   ],
   "source": [
    "string = \"jeminramani\"\n",
    "\n",
    "dict1 = {}\n",
    "for i in string:\n",
    "    dict1[i] = dict1.get(i, 0) + 1\n",
    "print(dict1)\n"
   ]
  },
  {
   "cell_type": "markdown",
   "metadata": {
    "id": "oacqSGHHYD2w"
   },
   "source": [
    "60)\n",
    "* Sample string: 'w3resource'\n",
    "* Expected output: {'3': 1,’s’: 1, 'r': 2, 'u': 1, 'w': 1, 'c': 1, 'e': 2, 'o': 1}"
   ]
  },
  {
   "cell_type": "code",
   "execution_count": 52,
   "metadata": {
    "colab": {
     "base_uri": "https://localhost:8080/"
    },
    "executionInfo": {
     "elapsed": 11,
     "status": "ok",
     "timestamp": 1758346367132,
     "user": {
      "displayName": "Jemin Ramani",
      "userId": "05369953851680502689"
     },
     "user_tz": -330
    },
    "id": "z1i-cUo1YNrt",
    "outputId": "865403a0-194b-46aa-a9b6-6eb48b27e147"
   },
   "outputs": [
    {
     "name": "stdout",
     "output_type": "stream",
     "text": [
      "{'w': 1, '3': 1, 'r': 2, 'e': 2, 's': 1, 'o': 1, 'u': 1, 'c': 1}\n"
     ]
    }
   ],
   "source": [
    "string = \"w3resource\"\n",
    "\n",
    "dict1 = {}\n",
    "for i in string:\n",
    "    dict1[i] = dict1.get(i, 0) + 1\n",
    "print(dict1)"
   ]
  },
  {
   "cell_type": "markdown",
   "metadata": {
    "id": "4WmPwyLBY1_S"
   },
   "source": [
    "61) Write a Python function to calculate the factorial of a number (a\n",
    "nonnegative integer)"
   ]
  },
  {
   "cell_type": "code",
   "execution_count": 53,
   "metadata": {
    "colab": {
     "base_uri": "https://localhost:8080/"
    },
    "executionInfo": {
     "elapsed": 98,
     "status": "ok",
     "timestamp": 1758346367231,
     "user": {
      "displayName": "Jemin Ramani",
      "userId": "05369953851680502689"
     },
     "user_tz": -330
    },
    "id": "aOBKFn1jY4Xp",
    "outputId": "fd9ba4cf-9155-4164-ca31-a4906acecb6c"
   },
   "outputs": [
    {
     "name": "stdout",
     "output_type": "stream",
     "text": [
      "120\n"
     ]
    }
   ],
   "source": [
    "def facto(n):\n",
    "    facto = 1\n",
    "    for i in range(1, n+1):\n",
    "        facto *= i\n",
    "    return facto\n",
    "\n",
    "print(facto(5))\n"
   ]
  },
  {
   "cell_type": "markdown",
   "metadata": {
    "id": "z2eX963mZMQY"
   },
   "source": [
    "62) Write a Python function to check whether a number is in a given range\n"
   ]
  },
  {
   "cell_type": "code",
   "execution_count": 54,
   "metadata": {
    "colab": {
     "base_uri": "https://localhost:8080/"
    },
    "executionInfo": {
     "elapsed": 23,
     "status": "ok",
     "timestamp": 1758346367232,
     "user": {
      "displayName": "Jemin Ramani",
      "userId": "05369953851680502689"
     },
     "user_tz": -330
    },
    "id": "qN-aaFarZOtJ",
    "outputId": "f44a61a7-c928-4d13-bcb5-c3bb9a1dd4e0"
   },
   "outputs": [
    {
     "name": "stdout",
     "output_type": "stream",
     "text": [
      "True\n"
     ]
    }
   ],
   "source": [
    "def check(n, start, end):\n",
    "    return start <= n <= end\n",
    "\n",
    "print(check(10, 5, 20))\n"
   ]
  },
  {
   "cell_type": "markdown",
   "metadata": {
    "id": "tMfFOj1kaESr"
   },
   "source": [
    "63) Write a Python function to check whether a number is perfect or not.\n"
   ]
  },
  {
   "cell_type": "code",
   "execution_count": 55,
   "metadata": {
    "colab": {
     "base_uri": "https://localhost:8080/"
    },
    "executionInfo": {
     "elapsed": 18,
     "status": "ok",
     "timestamp": 1758346367232,
     "user": {
      "displayName": "Jemin Ramani",
      "userId": "05369953851680502689"
     },
     "user_tz": -330
    },
    "id": "rPaztkWhaG1R",
    "outputId": "1f2cf240-6fc5-4093-9e69-48f08ac8b0ae"
   },
   "outputs": [
    {
     "name": "stdout",
     "output_type": "stream",
     "text": [
      "True\n"
     ]
    }
   ],
   "source": [
    "def per(n):\n",
    "    div = [i for i in range(1, n) if n % i == 0]\n",
    "    return sum(div) == n\n",
    "\n",
    "print(per(28))\n"
   ]
  },
  {
   "cell_type": "markdown",
   "metadata": {
    "id": "djLTeViiaVP7"
   },
   "source": [
    "64) Write a Python function that checks whether a passed string is\n",
    "palindrome or not"
   ]
  },
  {
   "cell_type": "code",
   "execution_count": 56,
   "metadata": {
    "colab": {
     "base_uri": "https://localhost:8080/"
    },
    "executionInfo": {
     "elapsed": 13,
     "status": "ok",
     "timestamp": 1758346367233,
     "user": {
      "displayName": "Jemin Ramani",
      "userId": "05369953851680502689"
     },
     "user_tz": -330
    },
    "id": "rrwR58sEaX3t",
    "outputId": "936952df-1d79-4211-edd4-f8c5d6727d84"
   },
   "outputs": [
    {
     "name": "stdout",
     "output_type": "stream",
     "text": [
      "True\n"
     ]
    }
   ],
   "source": [
    "def palin(n):\n",
    "    return n == n[::-1]\n",
    "\n",
    "print(palin(\"tenet\"))\n"
   ]
  },
  {
   "cell_type": "markdown",
   "metadata": {
    "id": "QTvMll7Aapfn"
   },
   "source": [
    "65) How Many Basic Types of Functions Are Available in Python?\n",
    "\n",
    "* Built-in Functions (e.g., len(), sum())\n",
    "* User-defined Functions (def)\n",
    "* Lambda (Anonymous) Functions"
   ]
  },
  {
   "cell_type": "markdown",
   "metadata": {
    "id": "MP4qte4kaz1z"
   },
   "source": [
    "66) How can you pick a random item from a list or tuple?\n"
   ]
  },
  {
   "cell_type": "code",
   "execution_count": 57,
   "metadata": {
    "colab": {
     "base_uri": "https://localhost:8080/"
    },
    "executionInfo": {
     "elapsed": 21,
     "status": "ok",
     "timestamp": 1758346367246,
     "user": {
      "displayName": "Jemin Ramani",
      "userId": "05369953851680502689"
     },
     "user_tz": -330
    },
    "id": "OfMObYNda2QZ",
    "outputId": "d5a9075d-6fed-4541-d5b4-1390e6bc5e47"
   },
   "outputs": [
    {
     "name": "stdout",
     "output_type": "stream",
     "text": [
      "10\n",
      "1\n"
     ]
    }
   ],
   "source": [
    "import random\n",
    "\n",
    "list1 = [10, 20, 30, 40]\n",
    "tup = (1, 2, 3, 4)\n",
    "print(random.choice(list1))\n",
    "print(random.choice(tup))\n"
   ]
  },
  {
   "cell_type": "markdown",
   "metadata": {
    "id": "cyFmH1wTa9QX"
   },
   "source": [
    "67) How can you pick a random item from a range?\n"
   ]
  },
  {
   "cell_type": "code",
   "execution_count": 2,
   "metadata": {
    "colab": {
     "base_uri": "https://localhost:8080/",
     "height": 193
    },
    "executionInfo": {
     "elapsed": 5,
     "status": "error",
     "timestamp": 1758346477402,
     "user": {
      "displayName": "Jemin Ramani",
      "userId": "05369953851680502689"
     },
     "user_tz": -330
    },
    "id": "SW6VPPT9a_AR",
    "outputId": "940ed70c-0b9a-40fe-f791-d64e3d3cdefe"
   },
   "outputs": [
    {
     "name": "stdout",
     "output_type": "stream",
     "text": [
      "4\n"
     ]
    }
   ],
   "source": [
    "import random\n",
    "\n",
    "my_range = range(1, 10)\n",
    "print(random.choice(my_range))"
   ]
  },
  {
   "cell_type": "markdown",
   "metadata": {
    "id": "pfkXj_4XbFm0"
   },
   "source": [
    "68) How can you get a random number in python?\n"
   ]
  },
  {
   "cell_type": "code",
   "execution_count": 59,
   "metadata": {
    "colab": {
     "base_uri": "https://localhost:8080/"
    },
    "executionInfo": {
     "elapsed": 35,
     "status": "ok",
     "timestamp": 1758346367287,
     "user": {
      "displayName": "Jemin Ramani",
      "userId": "05369953851680502689"
     },
     "user_tz": -330
    },
    "id": "KRkd0Ub1bHR5",
    "outputId": "c63d044d-fdf6-4257-f700-c0cb89909a38"
   },
   "outputs": [
    {
     "name": "stdout",
     "output_type": "stream",
     "text": [
      "5\n"
     ]
    }
   ],
   "source": [
    "import random\n",
    "\n",
    "rdm = random.randint(1, 100)\n",
    "print(rdm)\n"
   ]
  },
  {
   "cell_type": "markdown",
   "metadata": {
    "id": "0PhphCxwbMfd"
   },
   "source": []
  },
  {
   "cell_type": "markdown",
   "metadata": {
    "id": "fF9UHtpKbMhW"
   },
   "source": [
    "69) How will you set the starting value in generating random numbers?"
   ]
  },
  {
   "cell_type": "code",
   "execution_count": 60,
   "metadata": {
    "colab": {
     "base_uri": "https://localhost:8080/"
    },
    "executionInfo": {
     "elapsed": 18,
     "status": "ok",
     "timestamp": 1758346367307,
     "user": {
      "displayName": "Jemin Ramani",
      "userId": "05369953851680502689"
     },
     "user_tz": -330
    },
    "id": "YPQBUmBvbOUP",
    "outputId": "13b817b0-bdca-4aa9-8c24-e34f6bc8e2b0"
   },
   "outputs": [
    {
     "name": "stdout",
     "output_type": "stream",
     "text": [
      "80\n"
     ]
    }
   ],
   "source": [
    "import random\n",
    "\n",
    "random.seed(5)\n",
    "print(random.randint(1, 100))\n"
   ]
  },
  {
   "cell_type": "markdown",
   "metadata": {
    "id": "9p9NFSPobRS8"
   },
   "source": [
    "70) How will you randomize the items of a list in place?\n"
   ]
  },
  {
   "cell_type": "code",
   "execution_count": 61,
   "metadata": {
    "colab": {
     "base_uri": "https://localhost:8080/"
    },
    "executionInfo": {
     "elapsed": 12,
     "status": "ok",
     "timestamp": 1758346367311,
     "user": {
      "displayName": "Jemin Ramani",
      "userId": "05369953851680502689"
     },
     "user_tz": -330
    },
    "id": "sjIMK1XObUDI",
    "outputId": "aa0bdb31-14eb-45ca-d57f-fd6dbc4cc243"
   },
   "outputs": [
    {
     "name": "stdout",
     "output_type": "stream",
     "text": [
      "[2, 1, 4, 5, 3]\n"
     ]
    }
   ],
   "source": [
    "import random\n",
    "\n",
    "list1 = [1, 2, 3, 4, 5]\n",
    "random.shuffle(list1)\n",
    "print(list1)\n"
   ]
  },
  {
   "cell_type": "markdown",
   "metadata": {
    "id": "-iiNpuutbZYX"
   },
   "source": [
    "\n",
    "71) What is File function in python? What are keywords to create\n",
    "and write file.\n",
    "\n",
    "* open(filename, mode) → open file\n",
    "* Modes: \"r\" (read), \"w\" (write), \"a\" (append), \"b\" (binary)"
   ]
  },
  {
   "cell_type": "markdown",
   "metadata": {
    "id": "NWgewp3-cI1M"
   },
   "source": [
    "72) Write a Python program to read an entire text file.\n"
   ]
  },
  {
   "cell_type": "code",
   "execution_count": 66,
   "metadata": {
    "colab": {
     "base_uri": "https://localhost:8080/"
    },
    "executionInfo": {
     "elapsed": 17,
     "status": "ok",
     "timestamp": 1758346413448,
     "user": {
      "displayName": "Jemin Ramani",
      "userId": "05369953851680502689"
     },
     "user_tz": -330
    },
    "id": "H41l6pE2cKgx",
    "outputId": "5fdc9f81-7753-4e0f-d513-2a5a0460cc5f"
   },
   "outputs": [
    {
     "name": "stdout",
     "output_type": "stream",
     "text": [
      "Hi people\n",
      "\n"
     ]
    }
   ],
   "source": [
    "with open(\"file.txt\", \"r\") as f:\n",
    "    data = f.read()\n",
    "print(data)\n"
   ]
  },
  {
   "cell_type": "markdown",
   "metadata": {
    "id": "uKgE--zXccsz"
   },
   "source": [
    "73) Write a Python program to append text to a file and display the text.\n"
   ]
  },
  {
   "cell_type": "code",
   "execution_count": 67,
   "metadata": {
    "colab": {
     "base_uri": "https://localhost:8080/"
    },
    "executionInfo": {
     "elapsed": 25,
     "status": "ok",
     "timestamp": 1758346417948,
     "user": {
      "displayName": "Jemin Ramani",
      "userId": "05369953851680502689"
     },
     "user_tz": -330
    },
    "id": "iqe5dupYcel-",
    "outputId": "079b4efe-672b-443c-81dc-5ab0745a659f"
   },
   "outputs": [
    {
     "name": "stdout",
     "output_type": "stream",
     "text": [
      "Hi people\n",
      "How are you?\n"
     ]
    }
   ],
   "source": [
    "with open(\"file.txt\", \"a\") as f:\n",
    "    f.write(\"How are you?\")\n",
    "\n",
    "with open(\"file.txt\", \"r\") as f:\n",
    "    print(f.read())\n"
   ]
  },
  {
   "cell_type": "markdown",
   "metadata": {},
   "source": [
    "74. Write a Python program to read first n lines of a file.\n"
   ]
  },
  {
   "cell_type": "code",
   "execution_count": 10,
   "metadata": {
    "colab": {
     "base_uri": "https://localhost:8080/",
     "height": 193
    },
    "executionInfo": {
     "elapsed": 7,
     "status": "error",
     "timestamp": 1758346476735,
     "user": {
      "displayName": "Jemin Ramani",
      "userId": "05369953851680502689"
     },
     "user_tz": -330
    },
    "id": "o-13We2pc01o",
    "outputId": "da9dbb93-71cf-4993-e3c5-ca10c9f7a172"
   },
   "outputs": [
    {
     "name": "stdout",
     "output_type": "stream",
     "text": [
      "Hi people\n",
      "\n"
     ]
    }
   ],
   "source": [
    "n = 1\n",
    "with open(\"file.txt\", \"r\") as f:\n",
    "    for i in range(n):\n",
    "        print(f.readline())"
   ]
  },
  {
   "cell_type": "markdown",
   "metadata": {
    "id": "4fDuSS_ydJg1"
   },
   "source": [
    "75) Write a Python program to read last n lines of a file.\n"
   ]
  },
  {
   "cell_type": "code",
   "execution_count": 71,
   "metadata": {
    "colab": {
     "base_uri": "https://localhost:8080/"
    },
    "executionInfo": {
     "elapsed": 12,
     "status": "ok",
     "timestamp": 1758346493335,
     "user": {
      "displayName": "Jemin Ramani",
      "userId": "05369953851680502689"
     },
     "user_tz": -330
    },
    "id": "gxZSDyl2dM0P",
    "outputId": "52d47162-f12b-49b9-b7ee-fc1258c9c8f8"
   },
   "outputs": [
    {
     "name": "stdout",
     "output_type": "stream",
     "text": [
      "['Hi people\\n', 'How are you?']\n"
     ]
    }
   ],
   "source": [
    "n = 3\n",
    "with open(\"file.txt\", \"r\") as f:\n",
    "    lines = f.readlines()\n",
    "print(lines[-n:])\n"
   ]
  },
  {
   "cell_type": "markdown",
   "metadata": {
    "id": "sLwdVhf6dV3u"
   },
   "source": [
    "76) Write a Python program to read a file line by line and store it into a list\n"
   ]
  },
  {
   "cell_type": "code",
   "execution_count": 72,
   "metadata": {
    "colab": {
     "base_uri": "https://localhost:8080/"
    },
    "executionInfo": {
     "elapsed": 42,
     "status": "ok",
     "timestamp": 1758346496189,
     "user": {
      "displayName": "Jemin Ramani",
      "userId": "05369953851680502689"
     },
     "user_tz": -330
    },
    "id": "w8neQr6tg6KI",
    "outputId": "881ed58d-8d01-462a-edca-4e4e674b8d28"
   },
   "outputs": [
    {
     "name": "stdout",
     "output_type": "stream",
     "text": [
      "['Hi people\\n', 'How are you?']\n"
     ]
    }
   ],
   "source": [
    "with open(\"file.txt\", \"r\") as f:\n",
    "    list1 = f.readlines()\n",
    "print(list1)\n"
   ]
  },
  {
   "cell_type": "markdown",
   "metadata": {
    "id": "xbu1P7sTssBK"
   },
   "source": [
    "77) Write a Python program to read a file line by line store it into a variable.\n"
   ]
  },
  {
   "cell_type": "code",
   "execution_count": 73,
   "metadata": {
    "colab": {
     "base_uri": "https://localhost:8080/"
    },
    "executionInfo": {
     "elapsed": 8,
     "status": "ok",
     "timestamp": 1758346497935,
     "user": {
      "displayName": "Jemin Ramani",
      "userId": "05369953851680502689"
     },
     "user_tz": -330
    },
    "id": "5r1eBCt-suC7",
    "outputId": "8c257244-ffe9-4986-e60d-9e1127fc43a8"
   },
   "outputs": [
    {
     "name": "stdout",
     "output_type": "stream",
     "text": [
      "Hi people\n",
      "How are you?\n"
     ]
    }
   ],
   "source": [
    "with open(\"file.txt\", \"r\") as f:\n",
    "    data = f.read()\n",
    "print(data)\n"
   ]
  },
  {
   "cell_type": "markdown",
   "metadata": {
    "id": "Nyt5W04Ts0EH"
   },
   "source": [
    "78) Write a python program to find the longest words.\n"
   ]
  },
  {
   "cell_type": "code",
   "execution_count": 11,
   "metadata": {
    "executionInfo": {
     "elapsed": 141101,
     "status": "aborted",
     "timestamp": 1758346367474,
     "user": {
      "displayName": "Jemin Ramani",
      "userId": "05369953851680502689"
     },
     "user_tz": -330
    },
    "id": "Q7-rInObs1we"
   },
   "outputs": [
    {
     "name": "stdout",
     "output_type": "stream",
     "text": [
      "people\n"
     ]
    }
   ],
   "source": [
    "with open(\"file.txt\", \"r\") as f:\n",
    "    word = f.read().split()\n",
    "longest = max(word, key=len)\n",
    "print(longest)\n"
   ]
  },
  {
   "cell_type": "markdown",
   "metadata": {
    "id": "rsJ99c3Ws-hc"
   },
   "source": [
    "79) Write a Python program to count the number of lines in a text file.\n"
   ]
  },
  {
   "cell_type": "code",
   "execution_count": 74,
   "metadata": {
    "colab": {
     "base_uri": "https://localhost:8080/"
    },
    "executionInfo": {
     "elapsed": 23,
     "status": "ok",
     "timestamp": 1758346500221,
     "user": {
      "displayName": "Jemin Ramani",
      "userId": "05369953851680502689"
     },
     "user_tz": -330
    },
    "id": "bp8pQVg2tAlX",
    "outputId": "454f2644-b398-4325-9c09-7d39f3ffb1b1"
   },
   "outputs": [
    {
     "name": "stdout",
     "output_type": "stream",
     "text": [
      "2\n"
     ]
    }
   ],
   "source": [
    "with open(\"file.txt\", \"r\") as f:\n",
    "    count = len(f.readlines())\n",
    "print(count)\n"
   ]
  },
  {
   "cell_type": "markdown",
   "metadata": {
    "id": "nUG0IzRgtoJ2"
   },
   "source": [
    "80) Write a Python program to count the frequency of words in a file.\n"
   ]
  },
  {
   "cell_type": "code",
   "execution_count": 75,
   "metadata": {
    "colab": {
     "base_uri": "https://localhost:8080/"
    },
    "executionInfo": {
     "elapsed": 23,
     "status": "ok",
     "timestamp": 1758346502541,
     "user": {
      "displayName": "Jemin Ramani",
      "userId": "05369953851680502689"
     },
     "user_tz": -330
    },
    "id": "NOp4MEYdtpwY",
    "outputId": "5c9893fe-31ab-4a62-cb7d-06a5226aa8f9"
   },
   "outputs": [
    {
     "name": "stdout",
     "output_type": "stream",
     "text": [
      "Counter({'Hi': 1, 'people': 1, 'How': 1, 'are': 1, 'you?': 1})\n"
     ]
    }
   ],
   "source": [
    "from collections import Counter\n",
    "\n",
    "with open(\"file.txt\", \"r\") as f:\n",
    "    word = f.read().split()\n",
    "freq = Counter(word)\n",
    "print(freq)\n"
   ]
  },
  {
   "cell_type": "markdown",
   "metadata": {
    "id": "EdHNFFLLt1pQ"
   },
   "source": [
    "81) Write a Python program to write a list to a file.\n"
   ]
  },
  {
   "cell_type": "code",
   "execution_count": 12,
   "metadata": {
    "executionInfo": {
     "elapsed": 23,
     "status": "ok",
     "timestamp": 1758346508970,
     "user": {
      "displayName": "Jemin Ramani",
      "userId": "05369953851680502689"
     },
     "user_tz": -330
    },
    "id": "1Oz13NY7t3PA"
   },
   "outputs": [],
   "source": [
    "list1 = [\"Python\", \"Data\", \"Excel\"]\n",
    "with open(\"file3.txt\", \"w\") as f:\n",
    "    for i in list1:\n",
    "        f.write(i + \"\\n\")\n",
    "\n"
   ]
  },
  {
   "cell_type": "markdown",
   "metadata": {
    "id": "dklxWiM8urKU"
   },
   "source": [
    "82) Write a Python program to copy the contents of a file to another file.\n"
   ]
  },
  {
   "cell_type": "code",
   "execution_count": 13,
   "metadata": {
    "executionInfo": {
     "elapsed": 9,
     "status": "ok",
     "timestamp": 1758346515783,
     "user": {
      "displayName": "Jemin Ramani",
      "userId": "05369953851680502689"
     },
     "user_tz": -330
    },
    "id": "H2_KALYlute6"
   },
   "outputs": [],
   "source": [
    "with open(\"file.txt\", \"r\") as f1:\n",
    "    data1 = f1.read()\n",
    "\n",
    "with open(\"file2.txt\", \"w\") as f2:\n",
    "    f2.write(data1)\n"
   ]
  },
  {
   "cell_type": "markdown",
   "metadata": {
    "id": "oSaRO1MevECM"
   },
   "source": [
    "83) Explain Exception handling? What is an Error in Python?\n",
    "\n",
    "* Error → Problems in code (Syntax Error, Indentation Error).\n",
    "* Exception → Runtime issues (ZeroDivisionError, ValueError).\n",
    "* Exception Handling uses try-except."
   ]
  },
  {
   "cell_type": "markdown",
   "metadata": {
    "id": "6bgdwHXBvQBV"
   },
   "source": [
    "84) How many except statements can a try-except block have? Name\n",
    "Some built-in exception classes:\n",
    "\n",
    "* Multiple except blocks possible.\n",
    "* Examples of exceptions:\n",
    " ZeroDivisionError, ValueError, FileNotFoundError, TypeError."
   ]
  },
  {
   "cell_type": "markdown",
   "metadata": {
    "id": "viywwc7_vnnk"
   },
   "source": [
    "85) When will the else part of try-except-else be executed?\n",
    "\n",
    "* Runs only if no exception occurs."
   ]
  },
  {
   "cell_type": "markdown",
   "metadata": {
    "id": "t0e3Cjkjvtsk"
   },
   "source": [
    "86) Can one block of except statements handle multiple exception?\n"
   ]
  },
  {
   "cell_type": "code",
   "execution_count": 14,
   "metadata": {
    "colab": {
     "base_uri": "https://localhost:8080/"
    },
    "executionInfo": {
     "elapsed": 12,
     "status": "ok",
     "timestamp": 1758346521559,
     "user": {
      "displayName": "Jemin Ramani",
      "userId": "05369953851680502689"
     },
     "user_tz": -330
    },
    "id": "1eknZf7Ovv1Q",
    "outputId": "59e64c9e-837a-41b4-f08a-57379c901321"
   },
   "outputs": [
    {
     "name": "stdout",
     "output_type": "stream",
     "text": [
      "Error occurred\n"
     ]
    }
   ],
   "source": [
    "try:\n",
    "    a = int(\"abc\")\n",
    "except (ValueError, TypeError):\n",
    "    print(\"Error occurred\")\n"
   ]
  },
  {
   "cell_type": "markdown",
   "metadata": {
    "id": "WoHLNnsmvz32"
   },
   "source": [
    "87) When is the finally block executed?\n",
    "\n",
    "* In Python, the finally block is executed always, no matter what happens in the try or except blocks."
   ]
  },
  {
   "cell_type": "markdown",
   "metadata": {
    "id": "4kp4qB6Iv4N6"
   },
   "source": [
    "88) What happens when „1‟== 1 is executed?\n",
    "\n",
    "Returns False because string \"1\" and integer 1 are different types."
   ]
  },
  {
   "cell_type": "markdown",
   "metadata": {
    "id": "ZCxkbHlywhQk"
   },
   "source": [
    "89) How Do You Handle Exceptions with Try/Except/Finally in Python?\n",
    "Explain with coding snippets.\n",
    "\n"
   ]
  },
  {
   "cell_type": "code",
   "execution_count": 81,
   "metadata": {
    "colab": {
     "base_uri": "https://localhost:8080/"
    },
    "executionInfo": {
     "elapsed": 29,
     "status": "ok",
     "timestamp": 1758346523911,
     "user": {
      "displayName": "Jemin Ramani",
      "userId": "05369953851680502689"
     },
     "user_tz": -330
    },
    "id": "JYgNOTyRwkTr",
    "outputId": "27b0f1cd-9896-4794-e9c4-1e91f733d959"
   },
   "outputs": [
    {
     "name": "stdout",
     "output_type": "stream",
     "text": [
      "Value Error\n",
      "Always executed\n"
     ]
    }
   ],
   "source": [
    "try:\n",
    "    num = int(\"abc\")\n",
    "except ValueError:\n",
    "    print(\"Value Error\")\n",
    "else:\n",
    "    print(\"No Error\")\n",
    "finally:\n",
    "    print(\"Always executed\")\n"
   ]
  },
  {
   "cell_type": "markdown",
   "metadata": {
    "id": "CWQeZ2vIwnNc"
   },
   "source": [
    "90) Write python program that user to enter only odd numbers, else\n",
    "will raise an exception."
   ]
  },
  {
   "cell_type": "code",
   "execution_count": 82,
   "metadata": {
    "colab": {
     "base_uri": "https://localhost:8080/"
    },
    "executionInfo": {
     "elapsed": 3630,
     "status": "ok",
     "timestamp": 1758346529786,
     "user": {
      "displayName": "Jemin Ramani",
      "userId": "05369953851680502689"
     },
     "user_tz": -330
    },
    "id": "ZqygAnWexsJk",
    "outputId": "49f25ba3-62d7-4bb8-c9be-38f87759ce21"
   },
   "outputs": [
    {
     "name": "stdout",
     "output_type": "stream",
     "text": [
      "Enter odd number: 41\n",
      "Valid odd number\n"
     ]
    }
   ],
   "source": [
    "try:\n",
    "    num = int(input(\"Enter odd number: \"))\n",
    "    if num % 2 == 0:\n",
    "        raise ValueError(\"Even number entered!\")\n",
    "    print(\"Valid odd number\")\n",
    "except ValueError as f:\n",
    "    print(\"Error:\", f)\n"
   ]
  }
 ],
 "metadata": {
  "colab": {
   "authorship_tag": "ABX9TyPBV1/5n6SUSvJYtgbi55uf",
   "provenance": []
  },
  "kernelspec": {
   "display_name": "Python 3",
   "name": "python3"
  },
  "language_info": {
   "codemirror_mode": {
    "name": "ipython",
    "version": 3
   },
   "file_extension": ".py",
   "mimetype": "text/x-python",
   "name": "python",
   "nbconvert_exporter": "python",
   "pygments_lexer": "ipython3",
   "version": "3.11.9"
  }
 },
 "nbformat": 4,
 "nbformat_minor": 0
}
